{
 "cells": [
  {
   "cell_type": "markdown",
   "id": "928a2540",
   "metadata": {},
   "source": [
    "Engineering Test:\n",
    "============\n",
    "*Prepared by Almaz Mukhan.*\n",
    "\n",
    "This notebook traverses through the files in the folder **inputDir** and generates the combined.csv file. \n",
    "\n",
    "Please specify the folder with the files"
   ]
  },
  {
   "cell_type": "code",
   "execution_count": null,
   "id": "248a7581",
   "metadata": {},
   "outputs": [],
   "source": [
    "inputDir = 'C:\\dev\\manulife\\Engineering Test\\Engineering Test Files'"
   ]
  },
  {
   "cell_type": "code",
   "execution_count": null,
   "id": "01d3f732",
   "metadata": {},
   "outputs": [],
   "source": [
    "import os\n",
    "\n",
    "# Check whether the specified directory exists\n",
    "isExist = os.path.exists(inputDir) \n",
    "# Check whether the specified directory is an existing directory or not \n",
    "isDir = os.path.isdir(inputDir)\n",
    "\n",
    "if not isExist:\n",
    "    print(\"Please specify the directory that exists\")\n",
    "elif not isDir:\n",
    "    print(\"Please specify the directory\")\n",
    "else:\n",
    "    print(\"Specified directory exists\")\n"
   ]
  },
  {
   "cell_type": "code",
   "execution_count": null,
   "id": "7171eee9",
   "metadata": {},
   "outputs": [],
   "source": [
    "import socket\n",
    "import csv\n",
    "import struct\n",
    "\n",
    "data = {}\n",
    "main_header = [\"Source IP\", \"Count\", \"Events per Second\"]\n",
    "combined_header = [\"Source IP\", \"Environment\"]\n",
    "app_delimiter=\",\"\n",
    "\n",
    "def exclude_numbers_from_filename(filename):\n",
    "    return filename.strip(\" 0123456789\")\n",
    "\n",
    "def read_file(filename):\n",
    "    reader = None\n",
    "    try:\n",
    "        with open(filename, 'r') as csvfile:\n",
    "            reader = csv.DictReader(csvfile, delimiter=app_delimiter, fieldnames=main_header)\n",
    "            if not reader:\n",
    "                raise ValueError('No data available for ' + filename)\n",
    "                \n",
    "            return [row for row in reader][1:]\n",
    "    except IOError:\n",
    "        logging.exception('')\n",
    "    "
   ]
  },
  {
   "cell_type": "code",
   "execution_count": null,
   "id": "edd2c5bf",
   "metadata": {},
   "outputs": [],
   "source": [
    "for dirpath, dirs, files in os.walk(inputDir):\n",
    "    for filename in files:\n",
    "        fname = os.path.join(dirpath, filename)\n",
    "        ext = os.path.splitext(filename)[-1]  # Get extension of fname\n",
    "        bucket = exclude_numbers_from_filename(os.path.splitext(filename)[-2]) # Get filename with no numbers\n",
    "\n",
    "        if ext == \".csv\":\n",
    "            if bucket.lower() != 'combined':\n",
    "                for row in read_file(fname):\n",
    "                    data[row[main_header[0]]] = bucket\n"
   ]
  },
  {
   "cell_type": "code",
   "execution_count": null,
   "id": "32231982",
   "metadata": {},
   "outputs": [],
   "source": [
    "#Sort the dict by IP\n",
    "sortedData = sorted(data.items(), key=lambda ip: ( struct.unpack(\"!L\", socket.inet_aton(ip[0])), ip[1] ) )\n",
    "print(sortedData)"
   ]
  },
  {
   "cell_type": "code",
   "execution_count": null,
   "id": "49f10cde",
   "metadata": {},
   "outputs": [],
   "source": [
    "#Save the combined.csv\n",
    "with open(os.path.join(inputDir, \"combined.csv\"), 'w', newline='') as outputFile:\n",
    "    writer = csv.writer(outputFile)\n",
    "    writer.writerow(combined_header)\n",
    "    writer.writerows(sortedData)\n"
   ]
  },
  {
   "cell_type": "code",
   "execution_count": null,
   "id": "33be3290",
   "metadata": {},
   "outputs": [],
   "source": [
    "print(\"Done\")"
   ]
  }
 ],
 "metadata": {
  "kernelspec": {
   "display_name": "Python 3 (ipykernel)",
   "language": "python",
   "name": "python3"
  },
  "language_info": {
   "codemirror_mode": {
    "name": "ipython",
    "version": 3
   },
   "file_extension": ".py",
   "mimetype": "text/x-python",
   "name": "python",
   "nbconvert_exporter": "python",
   "pygments_lexer": "ipython3",
   "version": "3.9.6"
  }
 },
 "nbformat": 4,
 "nbformat_minor": 5
}
